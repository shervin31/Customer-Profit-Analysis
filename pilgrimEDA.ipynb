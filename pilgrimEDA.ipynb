{
 "cells": [
  {
   "cell_type": "markdown",
   "metadata": {},
   "source": [
    "#\n",
    "\n",
    "### Goal: The goal of this case study is to understand how using online banking services is related to customer profits."
   ]
  },
  {
   "cell_type": "markdown",
   "metadata": {},
   "source": [
    "##### 1. Understand the data: Load the data into a pandas DataFrame and explore it using the following functions:\n",
    "        a. df.head(), df.info(), df.describe() to get a sense of the data, its structure, and basic statistics."
   ]
  },
  {
   "cell_type": "code",
   "execution_count": 1,
   "metadata": {},
   "outputs": [],
   "source": [
    "# Importing required Libraries\n",
    "\n",
    "import pandas as pd\n",
    "\n",
    "# loading dataset\n",
    "\n",
    "pilgrim_raw=pd.read_csv(\"PilgrimData.csv\")"
   ]
  },
  {
   "cell_type": "code",
   "execution_count": null,
   "metadata": {},
   "outputs": [],
   "source": [
    "# checking if data loaded correctly and displaying first few rows\n",
    "pilgrim_raw.head()"
   ]
  },
  {
   "cell_type": "markdown",
   "metadata": {},
   "source": [
    "#### Before going further I would like to rename columns to make better sense of the data\n",
    "        Renaming columns with 9 as prefix such as 9Profit, 9Online, 9Age etc. as AnnualProfit(1999), 9Online as OnlineUsage(1999)\n",
    "        also assuming columns with 0 as prefix are for year 2000\n",
    "        and columns with prefix 9 but only occurring once are renamed as without prefix "
   ]
  },
  {
   "cell_type": "code",
   "execution_count": 3,
   "metadata": {},
   "outputs": [],
   "source": [
    "pilgrim=pilgrim_raw.copy()"
   ]
  },
  {
   "cell_type": "code",
   "execution_count": 4,
   "metadata": {},
   "outputs": [],
   "source": [
    "# Renaming columns\n",
    "pilgrim=pilgrim.rename(columns={'9Profit':'AnnualProfit(1999)','9Online':'OnlineUsage(1999)', '9Age':'AgeBucket', \n",
    "                                '9Inc':'IncomeBucket', '9Tenure':'Tenure', '9District':'Region','0Profit':'AnnualProfit(2000)',\n",
    "                                '0Online':'OnlineUsage(2000)','9Billpay':'BillPay(1999)','0Billpay':'BillPay(2000)'})"
   ]
  },
  {
   "cell_type": "code",
   "execution_count": null,
   "metadata": {},
   "outputs": [],
   "source": [
    "#exploring dataframe\n",
    "pilgrim.info()"
   ]
  },
  {
   "cell_type": "markdown",
   "metadata": {},
   "source": [
    "I observe that AgeBucket and IncomeBucket has missing values and this needs further investigation and AnnualProfit(2000) and OnlineUsage(2000) and BillPay(2000) has less values assuming that the data for year 2000 is still in progress and so we have limited data only. Needs further investigation to draw further conclusions"
   ]
  },
  {
   "cell_type": "markdown",
   "metadata": {},
   "source": [
    "# I want to check if missing age and missing income has a relation and how do they impact profits"
   ]
  },
  {
   "cell_type": "code",
   "execution_count": null,
   "metadata": {},
   "outputs": [],
   "source": [
    "# exploring statistics\n",
    "pilgrim.describe(include='all')"
   ]
  },
  {
   "cell_type": "markdown",
   "metadata": {},
   "source": [
    "**I observe that average customer profitability for the year 1999 was $111.50 which matches with the case description.**"
   ]
  },
  {
   "cell_type": "markdown",
   "metadata": {},
   "source": [
    "#### 2. Check the data format: Use functions like df.dtypes to understand the format and types of each column in your data and identify categorical data\n",
    "        a. Convert '9District' to a categorical format if needed\n",
    "        b. Check whether these age and income columns are treated as numerical or categorical"
   ]
  },
  {
   "cell_type": "code",
   "execution_count": null,
   "metadata": {},
   "outputs": [],
   "source": [
    "# checking data types of each column\n",
    "pilgrim.dtypes"
   ]
  },
  {
   "cell_type": "markdown",
   "metadata": {},
   "source": [
    "As we observe that Region (9District) is a integer data type in the dataframe\n",
    "But as we know region is a categorical variable represented by numbers in our dataframe\n",
    "and it doesn't make sense to regress on integers which are essentially catrgory hence, converting it to categorical variable using one hot encoding\n",
    "\n",
    "Similarly converting: AgeBucket , IncomeBucket also to categorical variable\n",
    "\n",
    "Why is one hot encoding required?\n",
    "explain it later\n"
   ]
  },
  {
   "cell_type": "code",
   "execution_count": 8,
   "metadata": {},
   "outputs": [],
   "source": [
    "\n",
    "#creating a new dataframe so that i can access inital dataframe which has no manipulations later on for other questions\n",
    "\n",
    "pilgrim_solution=pilgrim.copy()\n"
   ]
  },
  {
   "cell_type": "code",
   "execution_count": 9,
   "metadata": {},
   "outputs": [],
   "source": [
    "#dropping id column as it doesn't makes sense in regression\n",
    "\n",
    "pilgrim_solution = pilgrim_solution.drop(['ID'], axis = 1)\n",
    "\n",
    "# converting to categorical\n",
    "pilgrim_solution = pd.get_dummies(pilgrim_solution, columns=['AgeBucket', 'IncomeBucket', 'Region'], drop_first=True)\n",
    "\n",
    "#droppimg first columns of categories to avoid the trap of dummy...."
   ]
  },
  {
   "cell_type": "markdown",
   "metadata": {},
   "source": [
    "#### 3. Visualize variables:\n",
    "        a. Use histogram to visualize customer profits.\n",
    "        b. Scatter plots between variables can give an idea of degree of relationships between dependent and independent variables and degree of collinearity between variables"
   ]
  },
  {
   "cell_type": "code",
   "execution_count": null,
   "metadata": {},
   "outputs": [],
   "source": [
    "import matplotlib.pyplot as plt\n",
    "\n",
    "profits = pilgrim_solution['AnnualProfit(1999)'] \n",
    "\n",
    "# Plotting the histogram with a specified bin size \n",
    "plt.figure(figsize=(10,6))\n",
    "plt.hist(profits, bins=50, color='blue', alpha=0.7, edgecolor='black')\n",
    "plt.title('Distribution of Annual Profits for year 1999')\n",
    "plt.xlabel('Annual Profit')\n",
    "plt.ylabel('Frequency')\n",
    "plt.grid(True)\n",
    "plt.show()\n"
   ]
  },
  {
   "cell_type": "markdown",
   "metadata": {},
   "source": [
    "The skewness tells that profit is less and losses are high considering most frequency at 0"
   ]
  },
  {
   "cell_type": "code",
   "execution_count": null,
   "metadata": {},
   "outputs": [],
   "source": [
    "import matplotlib.pyplot as plt\n",
    "\n",
    "profits = pilgrim_solution['AnnualProfit(2000)'] \n",
    "\n",
    "# Plotting the histogram with a specified bin size \n",
    "plt.figure(figsize=(10,6))\n",
    "plt.hist(profits, bins=50, color='blue', alpha=0.7, edgecolor='black')\n",
    "plt.title('Distribution of Annual Profits')\n",
    "plt.xlabel('Annual Profit')\n",
    "plt.ylabel('Frequency')\n",
    "plt.grid(True)\n",
    "plt.show()\n"
   ]
  },
  {
   "cell_type": "markdown",
   "metadata": {},
   "source": [
    "clearly the profits have gone up compared to 1999 as 16% data is missing yet profit is positive have atleast reduce the losses already...hence, regression for year 2000 is necessary"
   ]
  },
  {
   "cell_type": "code",
   "execution_count": null,
   "metadata": {},
   "outputs": [],
   "source": [
    "# Scatterplot of online usage and profits\n",
    "\n",
    "import matplotlib.pyplot as plt\n",
    "# Scatter plot with Sales on the y-axis and Advertising on the x-axis\n",
    "plt.scatter(pilgrim_solution['OnlineUsage(1999)'], pilgrim_solution['AnnualProfit(1999)'])\n",
    "plt.xlabel('Online Usage for Year 1999')\n",
    "plt.ylabel('Annual Profits for Year 1999')\n",
    "plt.title('Scatter Plot of Online Usage vs. Annual Profits for Year 1999')\n",
    "plt.show()"
   ]
  },
  {
   "cell_type": "code",
   "execution_count": null,
   "metadata": {},
   "outputs": [],
   "source": [
    "# Scatterplot of online usage and profits\n",
    "\n",
    "import matplotlib.pyplot as plt\n",
    "# Scatter plot with Sales on the y-axis and Advertising on the x-axis\n",
    "plt.scatter(pilgrim_solution['OnlineUsage(2000)'], pilgrim_solution['AnnualProfit(2000)'])\n",
    "plt.xlabel('Online Usage for Year 2000')\n",
    "plt.ylabel('Annual Profits for Year 2000')\n",
    "plt.title('Scatter Plot of Online Usage vs. Annual Profits for Year 2000')\n",
    "plt.show()"
   ]
  },
  {
   "cell_type": "markdown",
   "metadata": {},
   "source": [
    "** Obersvation : Either Online Profit Making customers have switched or thier data is missing or has reduced as compared to 1999"
   ]
  },
  {
   "cell_type": "markdown",
   "metadata": {},
   "source": [
    " to get better understanding of the correlation of each varaible/column in dataset... i will pair plot and also plot covariance matrix \n",
    " i will do this only for continous variables as it make sense only for that # better explain this"
   ]
  },
  {
   "cell_type": "markdown",
   "metadata": {},
   "source": [
    "better data analytics is done in tableau and can be referred there"
   ]
  },
  {
   "cell_type": "code",
   "execution_count": null,
   "metadata": {},
   "outputs": [],
   "source": [
    "import seaborn as sns\n",
    "import pandas as pd\n",
    "import matplotlib.pyplot as plt\n",
    "\n",
    "# Sample DataFrame (replace this with your actual DataFrame)\n",
    "\n",
    "\n",
    "\n",
    "# Using Seaborn to create pair plots between all columns\n",
    "sns.pairplot(pilgrim)\n",
    "\n",
    "# Show the plot\n",
    "plt.show()\n"
   ]
  },
  {
   "cell_type": "code",
   "execution_count": 15,
   "metadata": {},
   "outputs": [],
   "source": [
    "# separating out continous columns but why???\n",
    "cont_columns=['AnnualProfit(1999)', 'OnlineUsage(1999)', 'Tenure', 'AnnualProfit(2000)', 'OnlineUsage(2000)']"
   ]
  },
  {
   "cell_type": "markdown",
   "metadata": {},
   "source": [
    "understanding relation between variables "
   ]
  },
  {
   "cell_type": "code",
   "execution_count": null,
   "metadata": {},
   "outputs": [],
   "source": [
    "\n",
    "import seaborn as sns\n",
    "import matplotlib.pyplot as plt\n",
    "\n",
    "\n",
    "\n",
    "\n",
    "# Calculate the correlation matrix\n",
    "correlation_matrix = pilgrim_solution[cont_columns].corr()\n",
    "\n",
    "# Display the correlation matrix\n",
    "# print(correlation_matrix)\n",
    "\n",
    "# Plot the correlation matrix\n",
    "plt.figure(figsize=(4, 4))\n",
    "sns.heatmap(correlation_matrix, annot=True, cmap='coolwarm', fmt='.2f')\n",
    "plt.title('Correlation Matrix')\n",
    "plt.show()\n"
   ]
  },
  {
   "cell_type": "code",
   "execution_count": null,
   "metadata": {},
   "outputs": [],
   "source": [
    "\n",
    "import seaborn as sns\n",
    "import matplotlib.pyplot as plt\n",
    "\n",
    "\n",
    "\n",
    "\n",
    "# Calculate the correlation matrix\n",
    "correlation_matrix = pilgrim_solution.corr()\n",
    "\n",
    "# Display the correlation matrix\n",
    "# print(correlation_matrix)\n",
    "\n",
    "# Plot the correlation matrix\n",
    "plt.figure(figsize=(20, 20))\n",
    "sns.heatmap(correlation_matrix, annot=True, cmap='coolwarm', fmt='.2f')\n",
    "plt.title('Correlation Matrix')\n",
    "plt.show()\n"
   ]
  }
 ],
 "metadata": {
  "kernelspec": {
   "display_name": "Python 3 (ipykernel)",
   "language": "python",
   "name": "python3"
  },
  "language_info": {
   "codemirror_mode": {
    "name": "ipython",
    "version": 3
   },
   "file_extension": ".py",
   "mimetype": "text/x-python",
   "name": "python",
   "nbconvert_exporter": "python",
   "pygments_lexer": "ipython3",
   "version": "3.12.1"
  }
 },
 "nbformat": 4,
 "nbformat_minor": 4
}
